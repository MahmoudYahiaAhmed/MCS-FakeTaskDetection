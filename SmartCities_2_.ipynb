{
  "nbformat": 4,
  "nbformat_minor": 0,
  "metadata": {
    "colab": {
      "name": "SmartCities 2 .ipynb",
      "provenance": [],
      "collapsed_sections": [
        "hlNR3NEzAptg",
        "5JviAavmAuUn",
        "L_gbJLhpjuQz",
        "6R5gPjkPAl7H",
        "SxEGHJ8HAi63",
        "b8PNxgErAcYP",
        "qJfy77_DAZHn",
        "ppaS0Ny5_uWY",
        "oX5bNCur_zhQ",
        "_z5rPibw__Ko",
        "GhkqfUCnAGAv",
        "C0xDAWV4ALlf",
        "saJUbtqcAO23"
      ]
    },
    "kernelspec": {
      "name": "python3",
      "display_name": "Python 3"
    },
    "language_info": {
      "name": "python"
    }
  },
  "cells": [
    {
      "cell_type": "markdown",
      "source": [
        "#Importing Important libs"
      ],
      "metadata": {
        "id": "hlNR3NEzAptg"
      }
    },
    {
      "cell_type": "code",
      "execution_count": null,
      "metadata": {
        "id": "HJs01_Jffy-C"
      },
      "outputs": [],
      "source": [
        "import csv\n",
        "import pandas as pd\n",
        "from sklearn.model_selection import train_test_split\n",
        "from collections import Counter\n",
        "import numpy as np \n",
        "from sklearn.ensemble import RandomForestRegressor\n",
        "from sklearn.ensemble import AdaBoostClassifier\n",
        "from sklearn.naive_bayes import GaussianNB\n",
        "from sklearn import model_selection\n",
        "from sklearn.linear_model import LogisticRegression\n",
        "from sklearn.naive_bayes import GaussianNB \n",
        "from sklearn.ensemble import RandomForestClassifier\n",
        "import numpy as np\n",
        "from imblearn.over_sampling import RandomOverSampler\n",
        "from imblearn.under_sampling import ClusterCentroids\n",
        "from sklearn.ensemble import VotingClassifier,RandomForestClassifier\n",
        "from sklearn.model_selection import cross_val_score\n",
        "from sklearn.metrics import accuracy_score\n",
        "import matplotlib.pyplot as plt\n",
        "from sklearn.metrics import classification_report "
      ]
    },
    {
      "cell_type": "markdown",
      "source": [
        "#Reading Data"
      ],
      "metadata": {
        "id": "5JviAavmAuUn"
      }
    },
    {
      "cell_type": "code",
      "source": [
        "df = pd.read_csv ('MCSDatasetNEXTCONLab.csv')\n",
        "df=df.drop([\"ID\"],axis=1)\n",
        "print(df)"
      ],
      "metadata": {
        "colab": {
          "base_uri": "https://localhost:8080/"
        },
        "id": "Vu9h-eiXhn1O",
        "outputId": "41270da7-f8c0-4882-a240-63aca9f148e5"
      },
      "execution_count": null,
      "outputs": [
        {
          "output_type": "stream",
          "name": "stdout",
          "text": [
            "        Latitude  Longitude  Day  Hour  Minute  Duration  RemainingTime  \\\n",
            "0      45.442142 -75.303369    1     4      13        40             40   \n",
            "1      45.442154 -75.304366    1     4      23        40             30   \n",
            "2      45.442104 -75.303963    1     4      33        40             20   \n",
            "3      45.441868 -75.303577    1     4      43        40             10   \n",
            "4      45.447727 -75.147722    2    15      49        30             30   \n",
            "...          ...        ...  ...   ...     ...       ...            ...   \n",
            "14479  45.445303 -75.165596    2     1      18        20             20   \n",
            "14480  45.445574 -75.165168    2     1      28        20             10   \n",
            "14481  45.436682 -75.152416    0    12      21        30             30   \n",
            "14482  45.436978 -75.153278    0    12      31        30             20   \n",
            "14483  45.436983 -75.153240    0    12      41        30             10   \n",
            "\n",
            "       Resources  Coverage  OnPeakHours  GridNumber  Ligitimacy  \n",
            "0              9        91            0      131380           1  \n",
            "1              9        91            0      131380           1  \n",
            "2              9        91            0      121996           1  \n",
            "3              9        91            0      121996           1  \n",
            "4              5        47            0      140784           1  \n",
            "...          ...       ...          ...         ...         ...  \n",
            "14479         10        80            0      131397           1  \n",
            "14480         10        80            0      131397           1  \n",
            "14481          4        63            0      122015           1  \n",
            "14482          4        63            0      122015           1  \n",
            "14483          4        63            0      122015           1  \n",
            "\n",
            "[14484 rows x 12 columns]\n"
          ]
        }
      ]
    },
    {
      "cell_type": "code",
      "source": [
        "data=df.iloc[:,:11] \n",
        "target=df[\"Ligitimacy\"]\n",
        "data"
      ],
      "metadata": {
        "id": "pZ7zXWdkhwVg",
        "colab": {
          "base_uri": "https://localhost:8080/",
          "height": 424
        },
        "outputId": "978242ee-6a9c-4b69-edea-ba9d3df1587e"
      },
      "execution_count": null,
      "outputs": [
        {
          "output_type": "execute_result",
          "data": {
            "text/plain": [
              "        Latitude  Longitude  Day  Hour  Minute  Duration  RemainingTime  \\\n",
              "0      45.442142 -75.303369    1     4      13        40             40   \n",
              "1      45.442154 -75.304366    1     4      23        40             30   \n",
              "2      45.442104 -75.303963    1     4      33        40             20   \n",
              "3      45.441868 -75.303577    1     4      43        40             10   \n",
              "4      45.447727 -75.147722    2    15      49        30             30   \n",
              "...          ...        ...  ...   ...     ...       ...            ...   \n",
              "14479  45.445303 -75.165596    2     1      18        20             20   \n",
              "14480  45.445574 -75.165168    2     1      28        20             10   \n",
              "14481  45.436682 -75.152416    0    12      21        30             30   \n",
              "14482  45.436978 -75.153278    0    12      31        30             20   \n",
              "14483  45.436983 -75.153240    0    12      41        30             10   \n",
              "\n",
              "       Resources  Coverage  OnPeakHours  GridNumber  \n",
              "0              9        91            0      131380  \n",
              "1              9        91            0      131380  \n",
              "2              9        91            0      121996  \n",
              "3              9        91            0      121996  \n",
              "4              5        47            0      140784  \n",
              "...          ...       ...          ...         ...  \n",
              "14479         10        80            0      131397  \n",
              "14480         10        80            0      131397  \n",
              "14481          4        63            0      122015  \n",
              "14482          4        63            0      122015  \n",
              "14483          4        63            0      122015  \n",
              "\n",
              "[14484 rows x 11 columns]"
            ],
            "text/html": [
              "\n",
              "  <div id=\"df-2e8ba379-c780-4487-b352-f8ce2af2c7b6\">\n",
              "    <div class=\"colab-df-container\">\n",
              "      <div>\n",
              "<style scoped>\n",
              "    .dataframe tbody tr th:only-of-type {\n",
              "        vertical-align: middle;\n",
              "    }\n",
              "\n",
              "    .dataframe tbody tr th {\n",
              "        vertical-align: top;\n",
              "    }\n",
              "\n",
              "    .dataframe thead th {\n",
              "        text-align: right;\n",
              "    }\n",
              "</style>\n",
              "<table border=\"1\" class=\"dataframe\">\n",
              "  <thead>\n",
              "    <tr style=\"text-align: right;\">\n",
              "      <th></th>\n",
              "      <th>Latitude</th>\n",
              "      <th>Longitude</th>\n",
              "      <th>Day</th>\n",
              "      <th>Hour</th>\n",
              "      <th>Minute</th>\n",
              "      <th>Duration</th>\n",
              "      <th>RemainingTime</th>\n",
              "      <th>Resources</th>\n",
              "      <th>Coverage</th>\n",
              "      <th>OnPeakHours</th>\n",
              "      <th>GridNumber</th>\n",
              "    </tr>\n",
              "  </thead>\n",
              "  <tbody>\n",
              "    <tr>\n",
              "      <th>0</th>\n",
              "      <td>45.442142</td>\n",
              "      <td>-75.303369</td>\n",
              "      <td>1</td>\n",
              "      <td>4</td>\n",
              "      <td>13</td>\n",
              "      <td>40</td>\n",
              "      <td>40</td>\n",
              "      <td>9</td>\n",
              "      <td>91</td>\n",
              "      <td>0</td>\n",
              "      <td>131380</td>\n",
              "    </tr>\n",
              "    <tr>\n",
              "      <th>1</th>\n",
              "      <td>45.442154</td>\n",
              "      <td>-75.304366</td>\n",
              "      <td>1</td>\n",
              "      <td>4</td>\n",
              "      <td>23</td>\n",
              "      <td>40</td>\n",
              "      <td>30</td>\n",
              "      <td>9</td>\n",
              "      <td>91</td>\n",
              "      <td>0</td>\n",
              "      <td>131380</td>\n",
              "    </tr>\n",
              "    <tr>\n",
              "      <th>2</th>\n",
              "      <td>45.442104</td>\n",
              "      <td>-75.303963</td>\n",
              "      <td>1</td>\n",
              "      <td>4</td>\n",
              "      <td>33</td>\n",
              "      <td>40</td>\n",
              "      <td>20</td>\n",
              "      <td>9</td>\n",
              "      <td>91</td>\n",
              "      <td>0</td>\n",
              "      <td>121996</td>\n",
              "    </tr>\n",
              "    <tr>\n",
              "      <th>3</th>\n",
              "      <td>45.441868</td>\n",
              "      <td>-75.303577</td>\n",
              "      <td>1</td>\n",
              "      <td>4</td>\n",
              "      <td>43</td>\n",
              "      <td>40</td>\n",
              "      <td>10</td>\n",
              "      <td>9</td>\n",
              "      <td>91</td>\n",
              "      <td>0</td>\n",
              "      <td>121996</td>\n",
              "    </tr>\n",
              "    <tr>\n",
              "      <th>4</th>\n",
              "      <td>45.447727</td>\n",
              "      <td>-75.147722</td>\n",
              "      <td>2</td>\n",
              "      <td>15</td>\n",
              "      <td>49</td>\n",
              "      <td>30</td>\n",
              "      <td>30</td>\n",
              "      <td>5</td>\n",
              "      <td>47</td>\n",
              "      <td>0</td>\n",
              "      <td>140784</td>\n",
              "    </tr>\n",
              "    <tr>\n",
              "      <th>...</th>\n",
              "      <td>...</td>\n",
              "      <td>...</td>\n",
              "      <td>...</td>\n",
              "      <td>...</td>\n",
              "      <td>...</td>\n",
              "      <td>...</td>\n",
              "      <td>...</td>\n",
              "      <td>...</td>\n",
              "      <td>...</td>\n",
              "      <td>...</td>\n",
              "      <td>...</td>\n",
              "    </tr>\n",
              "    <tr>\n",
              "      <th>14479</th>\n",
              "      <td>45.445303</td>\n",
              "      <td>-75.165596</td>\n",
              "      <td>2</td>\n",
              "      <td>1</td>\n",
              "      <td>18</td>\n",
              "      <td>20</td>\n",
              "      <td>20</td>\n",
              "      <td>10</td>\n",
              "      <td>80</td>\n",
              "      <td>0</td>\n",
              "      <td>131397</td>\n",
              "    </tr>\n",
              "    <tr>\n",
              "      <th>14480</th>\n",
              "      <td>45.445574</td>\n",
              "      <td>-75.165168</td>\n",
              "      <td>2</td>\n",
              "      <td>1</td>\n",
              "      <td>28</td>\n",
              "      <td>20</td>\n",
              "      <td>10</td>\n",
              "      <td>10</td>\n",
              "      <td>80</td>\n",
              "      <td>0</td>\n",
              "      <td>131397</td>\n",
              "    </tr>\n",
              "    <tr>\n",
              "      <th>14481</th>\n",
              "      <td>45.436682</td>\n",
              "      <td>-75.152416</td>\n",
              "      <td>0</td>\n",
              "      <td>12</td>\n",
              "      <td>21</td>\n",
              "      <td>30</td>\n",
              "      <td>30</td>\n",
              "      <td>4</td>\n",
              "      <td>63</td>\n",
              "      <td>0</td>\n",
              "      <td>122015</td>\n",
              "    </tr>\n",
              "    <tr>\n",
              "      <th>14482</th>\n",
              "      <td>45.436978</td>\n",
              "      <td>-75.153278</td>\n",
              "      <td>0</td>\n",
              "      <td>12</td>\n",
              "      <td>31</td>\n",
              "      <td>30</td>\n",
              "      <td>20</td>\n",
              "      <td>4</td>\n",
              "      <td>63</td>\n",
              "      <td>0</td>\n",
              "      <td>122015</td>\n",
              "    </tr>\n",
              "    <tr>\n",
              "      <th>14483</th>\n",
              "      <td>45.436983</td>\n",
              "      <td>-75.153240</td>\n",
              "      <td>0</td>\n",
              "      <td>12</td>\n",
              "      <td>41</td>\n",
              "      <td>30</td>\n",
              "      <td>10</td>\n",
              "      <td>4</td>\n",
              "      <td>63</td>\n",
              "      <td>0</td>\n",
              "      <td>122015</td>\n",
              "    </tr>\n",
              "  </tbody>\n",
              "</table>\n",
              "<p>14484 rows × 11 columns</p>\n",
              "</div>\n",
              "      <button class=\"colab-df-convert\" onclick=\"convertToInteractive('df-2e8ba379-c780-4487-b352-f8ce2af2c7b6')\"\n",
              "              title=\"Convert this dataframe to an interactive table.\"\n",
              "              style=\"display:none;\">\n",
              "        \n",
              "  <svg xmlns=\"http://www.w3.org/2000/svg\" height=\"24px\"viewBox=\"0 0 24 24\"\n",
              "       width=\"24px\">\n",
              "    <path d=\"M0 0h24v24H0V0z\" fill=\"none\"/>\n",
              "    <path d=\"M18.56 5.44l.94 2.06.94-2.06 2.06-.94-2.06-.94-.94-2.06-.94 2.06-2.06.94zm-11 1L8.5 8.5l.94-2.06 2.06-.94-2.06-.94L8.5 2.5l-.94 2.06-2.06.94zm10 10l.94 2.06.94-2.06 2.06-.94-2.06-.94-.94-2.06-.94 2.06-2.06.94z\"/><path d=\"M17.41 7.96l-1.37-1.37c-.4-.4-.92-.59-1.43-.59-.52 0-1.04.2-1.43.59L10.3 9.45l-7.72 7.72c-.78.78-.78 2.05 0 2.83L4 21.41c.39.39.9.59 1.41.59.51 0 1.02-.2 1.41-.59l7.78-7.78 2.81-2.81c.8-.78.8-2.07 0-2.86zM5.41 20L4 18.59l7.72-7.72 1.47 1.35L5.41 20z\"/>\n",
              "  </svg>\n",
              "      </button>\n",
              "      \n",
              "  <style>\n",
              "    .colab-df-container {\n",
              "      display:flex;\n",
              "      flex-wrap:wrap;\n",
              "      gap: 12px;\n",
              "    }\n",
              "\n",
              "    .colab-df-convert {\n",
              "      background-color: #E8F0FE;\n",
              "      border: none;\n",
              "      border-radius: 50%;\n",
              "      cursor: pointer;\n",
              "      display: none;\n",
              "      fill: #1967D2;\n",
              "      height: 32px;\n",
              "      padding: 0 0 0 0;\n",
              "      width: 32px;\n",
              "    }\n",
              "\n",
              "    .colab-df-convert:hover {\n",
              "      background-color: #E2EBFA;\n",
              "      box-shadow: 0px 1px 2px rgba(60, 64, 67, 0.3), 0px 1px 3px 1px rgba(60, 64, 67, 0.15);\n",
              "      fill: #174EA6;\n",
              "    }\n",
              "\n",
              "    [theme=dark] .colab-df-convert {\n",
              "      background-color: #3B4455;\n",
              "      fill: #D2E3FC;\n",
              "    }\n",
              "\n",
              "    [theme=dark] .colab-df-convert:hover {\n",
              "      background-color: #434B5C;\n",
              "      box-shadow: 0px 1px 3px 1px rgba(0, 0, 0, 0.15);\n",
              "      filter: drop-shadow(0px 1px 2px rgba(0, 0, 0, 0.3));\n",
              "      fill: #FFFFFF;\n",
              "    }\n",
              "  </style>\n",
              "\n",
              "      <script>\n",
              "        const buttonEl =\n",
              "          document.querySelector('#df-2e8ba379-c780-4487-b352-f8ce2af2c7b6 button.colab-df-convert');\n",
              "        buttonEl.style.display =\n",
              "          google.colab.kernel.accessAllowed ? 'block' : 'none';\n",
              "\n",
              "        async function convertToInteractive(key) {\n",
              "          const element = document.querySelector('#df-2e8ba379-c780-4487-b352-f8ce2af2c7b6');\n",
              "          const dataTable =\n",
              "            await google.colab.kernel.invokeFunction('convertToInteractive',\n",
              "                                                     [key], {});\n",
              "          if (!dataTable) return;\n",
              "\n",
              "          const docLinkHtml = 'Like what you see? Visit the ' +\n",
              "            '<a target=\"_blank\" href=https://colab.research.google.com/notebooks/data_table.ipynb>data table notebook</a>'\n",
              "            + ' to learn more about interactive tables.';\n",
              "          element.innerHTML = '';\n",
              "          dataTable['output_type'] = 'display_data';\n",
              "          await google.colab.output.renderOutput(dataTable, element);\n",
              "          const docLink = document.createElement('div');\n",
              "          docLink.innerHTML = docLinkHtml;\n",
              "          element.appendChild(docLink);\n",
              "        }\n",
              "      </script>\n",
              "    </div>\n",
              "  </div>\n",
              "  "
            ]
          },
          "metadata": {},
          "execution_count": 5
        }
      ]
    },
    {
      "cell_type": "code",
      "source": [
        "X_train, X_test, y_train, y_test = train_test_split(data , target, test_size=0.20, random_state=42)"
      ],
      "metadata": {
        "id": "hkEkx7zgyHFG"
      },
      "execution_count": null,
      "outputs": []
    },
    {
      "cell_type": "markdown",
      "source": [
        "#Define ML Models"
      ],
      "metadata": {
        "id": "6R5gPjkPAl7H"
      }
    },
    {
      "cell_type": "code",
      "source": [
        "rf = RandomForestClassifier(n_estimators = 1000, random_state = 42)\n",
        "ad=AdaBoostClassifier(random_state = 96)\n",
        "nv = GaussianNB()\n",
        "models=[rf,ad,nv]\n",
        "names=[\"RF\",\"AdaBoost\",\"GaussianNB\"]"
      ],
      "metadata": {
        "id": "I7BJKGE7KMNK"
      },
      "execution_count": null,
      "outputs": []
    },
    {
      "cell_type": "markdown",
      "source": [
        "#ML Models"
      ],
      "metadata": {
        "id": "SxEGHJ8HAi63"
      }
    },
    {
      "cell_type": "code",
      "source": [
        "def MLModels(clf,xtr,ytr,xte,yte,name):\n",
        "  Scores=[]\n",
        "  clf.fit(xtr,ytr)\n",
        "  Score=clf.score(xte,yte)\n",
        "  pred=clf.predict(xte)\n",
        "  predd=clf.predict(xtr)\n",
        "  trn= ['Legitimate', 'Fake Legitimate']\n",
        "  print(classification_report(yte, pred,target_names=trn))\n",
        "  if name==\"RF\":\n",
        "    print('RF Accuracy={:.2f}\\n'\n",
        "         .format(Score))\n",
        "    Scores.append({'rf score':Score})\n",
        "  elif name==\"AdaBoost\":\n",
        "    print('AdaBoost Accuracy={:.2f}\\n'\n",
        "         .format(Score))\n",
        "    Scores.append({'AdaBoost score':Score})\n",
        "  else:\n",
        "    print('GaussianNB Accuracy={:.2f}\\n'\n",
        "         .format(Score))\n",
        "    Scores.append({'GaussianNB score':Score})  \n",
        "  return Scores , predd , pred"
      ],
      "metadata": {
        "id": "fLR8yiNKpQsp"
      },
      "execution_count": null,
      "outputs": []
    },
    {
      "cell_type": "markdown",
      "source": [
        "#ML Models Results"
      ],
      "metadata": {
        "id": "b8PNxgErAcYP"
      }
    },
    {
      "cell_type": "code",
      "source": [
        "preds=[]\n",
        "accuracyList = []\n",
        "for i,n in zip(models, names):\n",
        "  Models,predd , pred= MLModels(i,X_train,y_train,X_test,y_test,n)\n",
        "  preds.append(pred)\n",
        "  accuracyList.append(Models)\n"
      ],
      "metadata": {
        "colab": {
          "base_uri": "https://localhost:8080/"
        },
        "id": "gifs8Qj-VLVt",
        "outputId": "7bc23239-bc16-4837-d4fb-436dd7a01075"
      },
      "execution_count": null,
      "outputs": [
        {
          "output_type": "stream",
          "name": "stdout",
          "text": [
            "                 precision    recall  f1-score   support\n",
            "\n",
            "     Legitimate       1.00      0.99      0.99       354\n",
            "Fake Legitimate       1.00      1.00      1.00      2543\n",
            "\n",
            "       accuracy                           1.00      2897\n",
            "      macro avg       1.00      0.99      1.00      2897\n",
            "   weighted avg       1.00      1.00      1.00      2897\n",
            "\n",
            "RF Accuracy=1.00\n",
            "\n",
            "                 precision    recall  f1-score   support\n",
            "\n",
            "     Legitimate       0.87      0.74      0.80       354\n",
            "Fake Legitimate       0.96      0.98      0.97      2543\n",
            "\n",
            "       accuracy                           0.95      2897\n",
            "      macro avg       0.92      0.86      0.89      2897\n",
            "   weighted avg       0.95      0.95      0.95      2897\n",
            "\n",
            "AdaBoost Accuracy=0.95\n",
            "\n",
            "                 precision    recall  f1-score   support\n",
            "\n",
            "     Legitimate       0.00      0.00      0.00       354\n",
            "Fake Legitimate       0.88      1.00      0.93      2543\n",
            "\n",
            "       accuracy                           0.88      2897\n",
            "      macro avg       0.44      0.50      0.47      2897\n",
            "   weighted avg       0.77      0.88      0.82      2897\n",
            "\n",
            "GaussianNB Accuracy=0.88\n",
            "\n"
          ]
        },
        {
          "output_type": "stream",
          "name": "stderr",
          "text": [
            "/usr/local/lib/python3.7/dist-packages/sklearn/metrics/_classification.py:1318: UndefinedMetricWarning: Precision and F-score are ill-defined and being set to 0.0 in labels with no predicted samples. Use `zero_division` parameter to control this behavior.\n",
            "  _warn_prf(average, modifier, msg_start, len(result))\n",
            "/usr/local/lib/python3.7/dist-packages/sklearn/metrics/_classification.py:1318: UndefinedMetricWarning: Precision and F-score are ill-defined and being set to 0.0 in labels with no predicted samples. Use `zero_division` parameter to control this behavior.\n",
            "  _warn_prf(average, modifier, msg_start, len(result))\n",
            "/usr/local/lib/python3.7/dist-packages/sklearn/metrics/_classification.py:1318: UndefinedMetricWarning: Precision and F-score are ill-defined and being set to 0.0 in labels with no predicted samples. Use `zero_division` parameter to control this behavior.\n",
            "  _warn_prf(average, modifier, msg_start, len(result))\n"
          ]
        }
      ]
    },
    {
      "cell_type": "markdown",
      "source": [
        "#Hard Voting"
      ],
      "metadata": {
        "id": "qJfy77_DAZHn"
      }
    },
    {
      "cell_type": "code",
      "source": [
        "votPredLis =[]\n",
        "def votingh():\n",
        "  num= ['Legitimate', 'Fake Legitimate']\n",
        "  for i , j in enumerate(preds[0]):\n",
        "    if preds[0][i]+preds[1][i]+preds[2][i] >= 2:\n",
        "      votPredLis.append(1)\n",
        "    else:\n",
        "      votPredLis.append(0)\n",
        "  totalVoteAccuracy = accuracy_score(y_test, votPredLis)\n",
        "  print(classification_report(y_test, votPredLis,target_names=num))\n",
        "  print('Accuracy Score Voting={:.2f}\\n'\n",
        "            .format(totalVoteAccuracy*100))\n",
        "  return totalVoteAccuracy"
      ],
      "metadata": {
        "id": "2owMaQqAm_fR"
      },
      "execution_count": null,
      "outputs": []
    },
    {
      "cell_type": "code",
      "source": [
        "hardacc=votingh()"
      ],
      "metadata": {
        "colab": {
          "base_uri": "https://localhost:8080/"
        },
        "id": "vXsYKCM-yytY",
        "outputId": "f5e76861-bf3e-4ecc-fbc1-9e43c5b46ff7"
      },
      "execution_count": null,
      "outputs": [
        {
          "output_type": "stream",
          "name": "stdout",
          "text": [
            "                 precision    recall  f1-score   support\n",
            "\n",
            "     Legitimate       0.93      0.98      0.95      2505\n",
            "Fake Legitimate       0.98      0.93      0.95      2530\n",
            "\n",
            "       accuracy                           0.95      5035\n",
            "      macro avg       0.96      0.95      0.95      5035\n",
            "   weighted avg       0.96      0.95      0.95      5035\n",
            "\n",
            "Accuracy Score Voting=95.37\n",
            "\n"
          ]
        }
      ]
    },
    {
      "cell_type": "markdown",
      "source": [
        "#getting trainset accuracy"
      ],
      "metadata": {
        "id": "ppaS0Ny5_uWY"
      }
    },
    {
      "cell_type": "code",
      "source": [
        "a=[]\n",
        "classifiers = [('RF', rf),\n",
        "                ('AdaBoost', ad),\n",
        "                ('GaussianNB', nv)]\n",
        "trn= ['Legitimate', 'Fake Legitimate']\n",
        "for k,i in classifiers:\n",
        "  i.fit(X_train, y_train)\n",
        "  yp=i.predict(X_train)\n",
        "  print(classification_report(y_train, yp,target_names=trn))\n",
        "  print(i.score(X_train, y_train))\n",
        "  a.append(i.score(X_train, y_train))"
      ],
      "metadata": {
        "id": "-Ms47BkMcr0H",
        "colab": {
          "base_uri": "https://localhost:8080/"
        },
        "outputId": "0823d2e6-39e3-445e-cfea-a737d315feaa"
      },
      "execution_count": null,
      "outputs": [
        {
          "output_type": "stream",
          "name": "stdout",
          "text": [
            "                 precision    recall  f1-score   support\n",
            "\n",
            "     Legitimate       1.00      1.00      1.00     10082\n",
            "Fake Legitimate       1.00      1.00      1.00     10057\n",
            "\n",
            "       accuracy                           1.00     20139\n",
            "      macro avg       1.00      1.00      1.00     20139\n",
            "   weighted avg       1.00      1.00      1.00     20139\n",
            "\n",
            "1.0\n",
            "                 precision    recall  f1-score   support\n",
            "\n",
            "     Legitimate       0.93      0.97      0.95     10082\n",
            "Fake Legitimate       0.97      0.92      0.95     10057\n",
            "\n",
            "       accuracy                           0.95     20139\n",
            "      macro avg       0.95      0.95      0.95     20139\n",
            "   weighted avg       0.95      0.95      0.95     20139\n",
            "\n",
            "0.9471175331446448\n",
            "                 precision    recall  f1-score   support\n",
            "\n",
            "     Legitimate       0.68      0.86      0.76     10082\n",
            "Fake Legitimate       0.81      0.59      0.68     10057\n",
            "\n",
            "       accuracy                           0.73     20139\n",
            "      macro avg       0.74      0.73      0.72     20139\n",
            "   weighted avg       0.74      0.73      0.72     20139\n",
            "\n",
            "0.7257559958289885\n"
          ]
        }
      ]
    },
    {
      "cell_type": "markdown",
      "source": [
        "#getting weightedsum\n"
      ],
      "metadata": {
        "id": "oX5bNCur_zhQ"
      }
    },
    {
      "cell_type": "code",
      "source": [
        "Weightedsum=[]\n",
        "name=[\"wRF\",\"wAdaboost\",\"wNB\"]\n",
        "for i,n in zip(a,name):\n",
        "  Weightedsum.append({n:(i/sum(a))})"
      ],
      "metadata": {
        "id": "9Z15o-pUWCVy"
      },
      "execution_count": null,
      "outputs": []
    },
    {
      "cell_type": "code",
      "source": [
        "Weightedsum"
      ],
      "metadata": {
        "colab": {
          "base_uri": "https://localhost:8080/"
        },
        "id": "hXAAGaXg77TK",
        "outputId": "ca72b7bf-0dfc-40a6-c30f-91e3acff6bf8"
      },
      "execution_count": null,
      "outputs": [
        {
          "output_type": "execute_result",
          "data": {
            "text/plain": [
              "[{'wRF': 0.3741291868695313},\n",
              " {'wAdaboost': 0.35434431254528226},\n",
              " {'wNB': 0.2715265005851864}]"
            ]
          },
          "metadata": {},
          "execution_count": 14
        }
      ]
    },
    {
      "cell_type": "markdown",
      "source": [
        "#aggregate Weights with Y predict"
      ],
      "metadata": {
        "id": "_z5rPibw__Ko"
      }
    },
    {
      "cell_type": "code",
      "source": [
        "Aggregatedop=[]\n",
        "for i,j in enumerate(preds):\n",
        "  newlist =[]\n",
        "  for x in j:\n",
        "    newlist.append(x*Weightedsum[i][name[i]])\n",
        "  Aggregatedop.append(newlist)"
      ],
      "metadata": {
        "id": "xaCuUx5Qqfok"
      },
      "execution_count": null,
      "outputs": []
    },
    {
      "cell_type": "markdown",
      "source": [
        "#Aggregate Output"
      ],
      "metadata": {
        "id": "GhkqfUCnAGAv"
      }
    },
    {
      "cell_type": "code",
      "source": [
        "d = [x+y+z for x, y, z in zip(Aggregatedop[0], Aggregatedop[1], Aggregatedop[2])]"
      ],
      "metadata": {
        "id": "mvzY8kXhKU0X"
      },
      "execution_count": null,
      "outputs": []
    },
    {
      "cell_type": "markdown",
      "source": [
        "#Simple Weighted"
      ],
      "metadata": {
        "id": "C0xDAWV4ALlf"
      }
    },
    {
      "cell_type": "code",
      "source": [
        "l𝑒𝑔𝑖𝑡𝑖𝑚𝑎𝑡𝑒Lis =[]\n",
        "for i in d : \n",
        "  if i > .5:\n",
        "    l𝑒𝑔𝑖𝑡𝑖𝑚𝑎𝑡𝑒Lis.append(1)\n",
        "  else:\n",
        "    l𝑒𝑔𝑖𝑡𝑖𝑚𝑎𝑡𝑒Lis.append(0)\n",
        "l𝑒𝑔𝑖𝑡𝑖𝑚𝑎𝑡𝑒LisAcc = accuracy_score(y_test, l𝑒𝑔𝑖𝑡𝑖𝑚𝑎𝑡𝑒Lis)\n",
        "l𝑒𝑔𝑖𝑡𝑖𝑚𝑎𝑡𝑒LisAcc"
      ],
      "metadata": {
        "id": "FFyYZTumxDng",
        "colab": {
          "base_uri": "https://localhost:8080/"
        },
        "outputId": "43702c5d-b840-4b3d-d2c3-11bbf1bcd362"
      },
      "execution_count": null,
      "outputs": [
        {
          "output_type": "execute_result",
          "data": {
            "text/plain": [
              "0.9537239324726912"
            ]
          },
          "metadata": {},
          "execution_count": 17
        }
      ]
    },
    {
      "cell_type": "markdown",
      "source": [
        "#Plotting Bars"
      ],
      "metadata": {
        "id": "saJUbtqcAO23"
      }
    },
    {
      "cell_type": "code",
      "source": [
        "###Comparing every model\n",
        "fig = plt.figure(figsize = (10, 5))\n",
        "labels = ['Ensemble-vote', 'Ensemble-weighted']\n",
        "times = [hardacc,l𝑒𝑔𝑖𝑡𝑖𝑚𝑎𝑡𝑒LisAcc]\n",
        "plt.bar(labels,times,width = 0.3)\n",
        "plt.show()\n",
        "labels = [\"NB\" ,'Ensemble-vote', 'Ensemble-weighted']\n",
        "times = [a[2],hardacc,l𝑒𝑔𝑖𝑡𝑖𝑚𝑎𝑡𝑒LisAcc]\n",
        "plt.bar(labels,times,width = 0.3)\n",
        "plt.title('Accuracy comparison results ')\n",
        "plt.xlabel('Models ')\n",
        "plt.ylabel('Accuracy')\n",
        "plt.show()\n",
        "labels = [\"Adaboost\" ,'Ensemble-vote', 'Ensemble-weighted']\n",
        "times = [a[1],hardacc,l𝑒𝑔𝑖𝑡𝑖𝑚𝑎𝑡𝑒LisAcc]\n",
        "plt.bar(labels,times,width = 0.3)\n",
        "plt.xlabel('Models ')\n",
        "plt.ylabel('Accuracy')\n",
        "plt.show()\n",
        "labels = [\"RF\" ,'Ensemble-vote', 'Ensemble-weighted']\n",
        "times = [a[0],hardacc,l𝑒𝑔𝑖𝑡𝑖𝑚𝑎𝑡𝑒LisAcc]\n",
        "plt.bar(labels,times,width = 0.3)\n",
        "plt.xlabel('Models ')\n",
        "plt.ylabel('Accuracy')\n",
        "plt.show()"
      ],
      "metadata": {
        "id": "_eLhdkvkgP08",
        "colab": {
          "base_uri": "https://localhost:8080/",
          "height": 1000
        },
        "outputId": "ff53c691-3c60-49c7-ba86-a74e2d5fa8fe"
      },
      "execution_count": null,
      "outputs": [
        {
          "output_type": "display_data",
          "data": {
            "text/plain": [
              "<Figure size 720x360 with 1 Axes>"
            ],
            "image/png": "[encoded data removed]"
          },
          "metadata": {
            "needs_background": "light"
          }
        },
        {
          "output_type": "display_data",
          "data": {
            "text/plain": [
              "<Figure size 432x288 with 1 Axes>"
            ],
            "image/png": "[encoded data removed]"
          },
          "metadata": {
            "needs_background": "light"
          }
        },
        {
          "output_type": "display_data",
          "data": {
            "text/plain": [
              "<Figure size 432x288 with 1 Axes>"
            ],
            "image/png": "[encoded data removed]"
          },
          "metadata": {
            "needs_background": "light"
          }
        },
        {
          "output_type": "display_data",
          "data": {
            "text/plain": [
              "<Figure size 432x288 with 1 Axes>"
            ],
            "image/png": "[encoded data removed]"
          },
          "metadata": {
            "needs_background": "light"
          }
        }
      ]
    },
    {
      "cell_type": "code",
      "source": [
        "def Barplot():\n",
        "  fig = plt.figure(figsize = (10, 5))\n",
        "  labels = [\"RF\",\"Adaboost\",\"NB\" , 'Ensemble-vote', 'Ensemble-weighted']\n",
        "  times = [a[0],a[1],a[2],hardacc,l𝑒𝑔𝑖𝑡𝑖𝑚𝑎𝑡𝑒LisAcc]\n",
        "  plt.bar(labels,times,width = 0.3)\n",
        "  plt.title('Accuracy comparison results ')\n",
        "  plt.xlabel('Models ')\n",
        "  plt.xticks(rotation=45, ha='right')\n",
        "  plt.ylabel('Accuracy')\n",
        "  plt.show()"
      ],
      "metadata": {
        "id": "EV4PGQRt6Z0Z"
      },
      "execution_count": null,
      "outputs": []
    },
    {
      "cell_type": "code",
      "source": [
        "Barplot()"
      ],
      "metadata": {
        "id": "-T-EmzL0W4yW",
        "colab": {
          "base_uri": "https://localhost:8080/",
          "height": 417
        },
        "outputId": "17000740-da66-40e9-9d3f-b281d9981cb0"
      },
      "execution_count": null,
      "outputs": [
        {
          "output_type": "display_data",
          "data": {
            "text/plain": [
              "<Figure size 720x360 with 1 Axes>"
            ],
            "image/png": "[encoded data removed]"
          },
          "metadata": {
            "needs_background": "light"
          }
        }
      ]
    },
    {
      "cell_type": "code",
      "source": [
        ""
      ],
      "metadata": {
        "id": "rKaSa8gB9q1s"
      },
      "execution_count": null,
      "outputs": []
    }
  ]
}